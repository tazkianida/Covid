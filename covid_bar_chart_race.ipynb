{
 "cells": [
  {
   "cell_type": "code",
   "execution_count": null,
   "metadata": {},
   "outputs": [],
   "source": [
    "import pandas as pd\n",
    "import matplotlib.pyplot as plt\n",
    "import matplotlib.ticker as ticker\n",
    "import matplotlib.animation as animation\n",
    "from IPython.display import HTML\n",
    "import numpy as np\n",
    "import seaborn as sns\n",
    "\n",
    "df = pd.read_csv ('COVID19-20200917.csv')\n",
    "df.dtypes"
   ]
  },
  {
   "cell_type": "code",
   "execution_count": null,
   "metadata": {},
   "outputs": [],
   "source": [
    "df.head()"
   ]
  },
  {
   "cell_type": "code",
   "execution_count": null,
   "metadata": {},
   "outputs": [],
   "source": [
    "df.isnull().sum()"
   ]
  },
  {
   "cell_type": "code",
   "execution_count": null,
   "metadata": {},
   "outputs": [],
   "source": [
    "df = pd.DataFrame(df.groupby(['country_name','date'])['cumulative_confirmed'].sum()).reset_index()\n",
    "\n",
    "current_month = '2020-07-31'\n",
    "dff = df[df['date'].eq(current_month)].sort_values(by='cumulative_confirmed', ascending=False).head(15)\n",
    "dff"
   ]
  },
  {
   "cell_type": "code",
   "execution_count": null,
   "metadata": {},
   "outputs": [],
   "source": [
    "fig, ax = plt.subplots(figsize=(15, 8))\n",
    "sns.set(style=\"darkgrid\")\n",
    "ax.barh(dff['country_name'], dff['cumulative_confirmed'])"
   ]
  },
  {
   "cell_type": "code",
   "execution_count": null,
   "metadata": {},
   "outputs": [],
   "source": [
    "from random import randint\n",
    "import matplotlib.colors as mc\n",
    "import colorsys\n",
    "\n",
    "# colors \n",
    "def transform_color(color, amount = 0.5):\n",
    "    try:\n",
    "        c = mc.cnames[color]\n",
    "    except:\n",
    "        c = color\n",
    "        c = colorsys.rgb_to_hls(*mc.to_rgb(c))\n",
    "    return colorsys.hls_to_rgb(c[0], 1 - amount * (1 - c[1]), c[2])\n",
    "\n",
    "all_names = df['country_name'].unique().tolist()\n",
    "random_hex_colors = []\n",
    "# group_lk = df.set_index('country_name')['group'].to_dict()\n",
    "\n",
    "for i in range(len(all_names)):\n",
    "    random_hex_colors.append('#' + '%06X' % randint(0, 0xFFFFFF))\n",
    "    \n",
    "rgb_colors = [transform_color(i, 1) for i in random_hex_colors]\n",
    "rgb_colors_opacity = [rgb_colors[x] + (0.325,) for x in range(len(rgb_colors))]\n",
    "rgb_colors_dark = [transform_color(i, 1.12) for i in random_hex_colors]"
   ]
  },
  {
   "cell_type": "code",
   "execution_count": null,
   "metadata": {},
   "outputs": [],
   "source": [
    "from datetime import datetime\n",
    "\n",
    "fig, ax = plt.subplots(figsize=(15,8))\n",
    "fig.subplots_adjust(left=0, bottom=0, right=1, top=1, wspace=None, hspace=None)\n",
    "\n",
    "def draw_barchart(date):\n",
    "    dff = df[df['date'].eq(date)].sort_values(by='cumulative_confirmed', ascending=True).tail(15)\n",
    "    ax.clear()\n",
    "    \n",
    "    normal_colors = dict(zip(df['country_name'].unique(), rgb_colors_opacity))\n",
    "    \n",
    "    ax.barh(dff['country_name'], dff['cumulative_confirmed'], color = [normal_colors[x] for x in dff['country_name']])\n",
    "    dx = dff['cumulative_confirmed'].max() / 100\n",
    "    for i, (value, name) in enumerate(zip(dff['cumulative_confirmed'], dff['country_name'])):\n",
    "        ax.text(value-dx, i,     name,           size=12, weight=800, ha='right')\n",
    "        ax.text(value+dx, i,     f'{value:,.0f}',  size=10, ha='left',  va='center')\n",
    "        \n",
    "    # ... polished styles\n",
    "    ax.text(1, 0.4, datetime.strptime(date, '%Y-%m-%d').strftime(\"%B\"), transform=ax.transAxes, color='#766712', size=56, ha='right', weight=500)\n",
    "    ax.text(1, 0.3, date, transform=ax.transAxes, color='#777777', size=20, ha='right', weight=500)\n",
    "    ax.text(0, 1.06, 'Confirmed Cases', transform=ax.transAxes, size=12, color='#777777')\n",
    "    ax.xaxis.set_major_formatter(ticker.StrMethodFormatter('{x:,.0f}'))\n",
    "    ax.xaxis.set_ticks_position('top')\n",
    "    ax.tick_params(axis='x', colors='#777777', labelsize=12)\n",
    "    ax.set_yticks([])\n",
    "    ax.margins(0, 0.01)\n",
    "    ax.grid(which='major', axis='x', linestyle='-')\n",
    "    ax.set_axisbelow(True)\n",
    "    ax.text(0, 1.12, '\\n\\nCOVID-19 Confirmed Cases Worldwilde (Until August 2020)', transform=ax.transAxes, size=24, weight=600, ha='left')\n",
    "    plt.box(False)\n",
    "    plt.tight_layout()\n",
    "    \n",
    "draw_barchart('2020-07-31')"
   ]
  },
  {
   "cell_type": "code",
   "execution_count": null,
   "metadata": {},
   "outputs": [],
   "source": [
    "dates=pd.Series(pd.to_datetime(df['date'].unique()))\n",
    "# dates= dates.groupby(dates.index.month).apply(lambda s: np.max(s.index))\n",
    "\n",
    "dates=dates.where(dates < '2020-09-01')\n",
    "\n",
    "dates.dropna(inplace=True)\n",
    "dates = dates.astype(str)\n",
    "dates"
   ]
  },
  {
   "cell_type": "code",
   "execution_count": null,
   "metadata": {},
   "outputs": [],
   "source": [
    "import matplotlib.animation as animation\n",
    "from IPython.display import HTML\n",
    "\n",
    "fig, ax = plt.subplots(figsize=(15, 8 ))\n",
    "animator = animation.FuncAnimation(fig, draw_barchart, frames=dates)\n",
    "HTML(animator.to_jshtml()) \n"
   ]
  },
  {
   "cell_type": "code",
   "execution_count": null,
   "metadata": {},
   "outputs": [],
   "source": [
    "animator.save('covid_til_august.gif', writer='Pillow', fps=10)"
   ]
  }
 ],
 "metadata": {
  "kernelspec": {
   "display_name": "Python 3",
   "language": "python",
   "name": "python3"
  },
  "language_info": {
   "codemirror_mode": {
    "name": "ipython",
    "version": 3
   },
   "file_extension": ".py",
   "mimetype": "text/x-python",
   "name": "python",
   "nbconvert_exporter": "python",
   "pygments_lexer": "ipython3",
   "version": "3.7.3"
  }
 },
 "nbformat": 4,
 "nbformat_minor": 4
}
